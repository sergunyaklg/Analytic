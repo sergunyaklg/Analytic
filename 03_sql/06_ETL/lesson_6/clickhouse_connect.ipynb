{
 "cells": [
  {
   "cell_type": "code",
   "execution_count": 2,
   "metadata": {},
   "outputs": [],
   "source": [
    "#импортируем нужные либы\n",
    "import pandahouse as ph\n",
    "import pandas as pd"
   ]
  },
  {
   "cell_type": "code",
   "execution_count": 3,
   "metadata": {},
   "outputs": [],
   "source": [
    "#объявляем параметры подключения\n",
    "connection = dict(database='test',\n",
    "                  host='https://clickhouse.lab.karpov.courses',\n",
    "                  user='student-rw',\n",
    "                  password='656e2b0c9c')"
   ]
  },
  {
   "cell_type": "code",
   "execution_count": 4,
   "metadata": {},
   "outputs": [
    {
     "data": {
      "text/html": [
       "<div>\n",
       "<style scoped>\n",
       "    .dataframe tbody tr th:only-of-type {\n",
       "        vertical-align: middle;\n",
       "    }\n",
       "\n",
       "    .dataframe tbody tr th {\n",
       "        vertical-align: top;\n",
       "    }\n",
       "\n",
       "    .dataframe thead th {\n",
       "        text-align: right;\n",
       "    }\n",
       "</style>\n",
       "<table border=\"1\" class=\"dataframe\">\n",
       "  <thead>\n",
       "    <tr style=\"text-align: right;\">\n",
       "      <th></th>\n",
       "      <th>InstallationDate</th>\n",
       "      <th>InstallCost</th>\n",
       "      <th>Platform</th>\n",
       "      <th>DeviceID</th>\n",
       "      <th>Source</th>\n",
       "    </tr>\n",
       "  </thead>\n",
       "  <tbody>\n",
       "    <tr>\n",
       "      <th>0</th>\n",
       "      <td>2019-02-26</td>\n",
       "      <td>316</td>\n",
       "      <td>android</td>\n",
       "      <td>10879026690238063676</td>\n",
       "      <td>Source_15</td>\n",
       "    </tr>\n",
       "    <tr>\n",
       "      <th>1</th>\n",
       "      <td>2019-04-26</td>\n",
       "      <td>0</td>\n",
       "      <td>android</td>\n",
       "      <td>18029291495974474788</td>\n",
       "      <td>Source_27</td>\n",
       "    </tr>\n",
       "    <tr>\n",
       "      <th>2</th>\n",
       "      <td>2019-01-31</td>\n",
       "      <td>303</td>\n",
       "      <td>android</td>\n",
       "      <td>4255585467126109158</td>\n",
       "      <td>Source_14</td>\n",
       "    </tr>\n",
       "    <tr>\n",
       "      <th>3</th>\n",
       "      <td>2019-07-08</td>\n",
       "      <td>0</td>\n",
       "      <td>android</td>\n",
       "      <td>7527859059637963676</td>\n",
       "      <td>Source_27</td>\n",
       "    </tr>\n",
       "    <tr>\n",
       "      <th>4</th>\n",
       "      <td>2019-08-24</td>\n",
       "      <td>95</td>\n",
       "      <td>android</td>\n",
       "      <td>3670537895465505765</td>\n",
       "      <td>Source_9</td>\n",
       "    </tr>\n",
       "    <tr>\n",
       "      <th>...</th>\n",
       "      <td>...</td>\n",
       "      <td>...</td>\n",
       "      <td>...</td>\n",
       "      <td>...</td>\n",
       "      <td>...</td>\n",
       "    </tr>\n",
       "    <tr>\n",
       "      <th>11232847</th>\n",
       "      <td>2019-09-01</td>\n",
       "      <td>90</td>\n",
       "      <td>android</td>\n",
       "      <td>17861918903118191617</td>\n",
       "      <td>Source_9</td>\n",
       "    </tr>\n",
       "    <tr>\n",
       "      <th>11232848</th>\n",
       "      <td>2019-01-08</td>\n",
       "      <td>165</td>\n",
       "      <td>android</td>\n",
       "      <td>12298329756342460270</td>\n",
       "      <td>Source_9</td>\n",
       "    </tr>\n",
       "    <tr>\n",
       "      <th>11232849</th>\n",
       "      <td>2019-06-09</td>\n",
       "      <td>240</td>\n",
       "      <td>android</td>\n",
       "      <td>15460014972147366819</td>\n",
       "      <td>Source_9</td>\n",
       "    </tr>\n",
       "    <tr>\n",
       "      <th>11232850</th>\n",
       "      <td>2019-04-19</td>\n",
       "      <td>172</td>\n",
       "      <td>android</td>\n",
       "      <td>13920517736412594678</td>\n",
       "      <td>Source_14</td>\n",
       "    </tr>\n",
       "    <tr>\n",
       "      <th>11232851</th>\n",
       "      <td>2019-02-28</td>\n",
       "      <td>87</td>\n",
       "      <td>android</td>\n",
       "      <td>16678952325920591141</td>\n",
       "      <td>Source_14</td>\n",
       "    </tr>\n",
       "  </tbody>\n",
       "</table>\n",
       "<p>11232852 rows × 5 columns</p>\n",
       "</div>"
      ],
      "text/plain": [
       "         InstallationDate  InstallCost Platform              DeviceID  \\\n",
       "0              2019-02-26          316  android  10879026690238063676   \n",
       "1              2019-04-26            0  android  18029291495974474788   \n",
       "2              2019-01-31          303  android   4255585467126109158   \n",
       "3              2019-07-08            0  android   7527859059637963676   \n",
       "4              2019-08-24           95  android   3670537895465505765   \n",
       "...                   ...          ...      ...                   ...   \n",
       "11232847       2019-09-01           90  android  17861918903118191617   \n",
       "11232848       2019-01-08          165  android  12298329756342460270   \n",
       "11232849       2019-06-09          240  android  15460014972147366819   \n",
       "11232850       2019-04-19          172  android  13920517736412594678   \n",
       "11232851       2019-02-28           87  android  16678952325920591141   \n",
       "\n",
       "             Source  \n",
       "0         Source_15  \n",
       "1         Source_27  \n",
       "2         Source_14  \n",
       "3         Source_27  \n",
       "4          Source_9  \n",
       "...             ...  \n",
       "11232847   Source_9  \n",
       "11232848   Source_9  \n",
       "11232849   Source_9  \n",
       "11232850  Source_14  \n",
       "11232851  Source_14  \n",
       "\n",
       "[11232852 rows x 5 columns]"
      ]
     },
     "execution_count": 4,
     "metadata": {},
     "output_type": "execute_result"
    }
   ],
   "source": [
    "#пишем запрос, и получаем данные из clickhouse в pandas dataframe\n",
    "query = \"\"\"\n",
    "SELECT *\n",
    "FROM test.installs\n",
    "\"\"\"\n",
    "df = ph.read_clickhouse(query, connection=connection)\n",
    "df"
   ]
  },
  {
   "cell_type": "code",
   "execution_count": null,
   "metadata": {},
   "outputs": [],
   "source": [
    "#выгружаем данные из pandas в excel\n",
    "df.to_excel(\"./ch_data.xlsx\", sheet_name='Data', index=False, encoding='UTF-8')"
   ]
  },
  {
   "cell_type": "code",
   "execution_count": null,
   "metadata": {},
   "outputs": [],
   "source": [
    "#читаем данные из csv в pandas\n",
    "df_in = pd.read_csv(\"./medium.csv\", sep='\\t')\n",
    "df_in"
   ]
  },
  {
   "cell_type": "code",
   "execution_count": null,
   "metadata": {},
   "outputs": [],
   "source": [
    "#пишем запрос, и получаем данные из clickhouse в pandas dataframe\n",
    "query_create = \"\"\"\n",
    "CREATE TABLE test.beslan_import_test (\n",
    "    published String,\n",
    "    domain String,\n",
    "    url String\n",
    ")\n",
    "ENGINE = Log\n",
    "\"\"\"\n",
    "df_create = ph.read_clickhouse(query_create, connection=connection)\n",
    "df_create"
   ]
  },
  {
   "cell_type": "code",
   "execution_count": null,
   "metadata": {},
   "outputs": [],
   "source": [
    "#записываем данные из pandas в clickhouse\n",
    "ph.to_clickhouse(df_in, 'beslan_import_test', index=False, connection=connection)"
   ]
  },
  {
   "cell_type": "code",
   "execution_count": null,
   "metadata": {},
   "outputs": [],
   "source": [
    "#проверяем, что записалось\n",
    "query_test = \"\"\"\n",
    "SELECT *\n",
    "FROM test.beslan_import_test\n",
    "\"\"\"\n",
    "df_new = ph.read_clickhouse(query_test, connection=connection)\n",
    "df_new"
   ]
  },
  {
   "cell_type": "code",
   "execution_count": null,
   "metadata": {},
   "outputs": [],
   "source": []
  }
 ],
 "metadata": {
  "kernelspec": {
   "display_name": "Python 3",
   "language": "python",
   "name": "python3"
  },
  "language_info": {
   "codemirror_mode": {
    "name": "ipython",
    "version": 3
   },
   "file_extension": ".py",
   "mimetype": "text/x-python",
   "name": "python",
   "nbconvert_exporter": "python",
   "pygments_lexer": "ipython3",
   "version": "3.10.6 (main, Nov 14 2022, 16:10:14) [GCC 11.3.0]"
  },
  "vscode": {
   "interpreter": {
    "hash": "916dbcbb3f70747c44a77c7bcd40155683ae19c65e1c03b4aa3499c5328201f1"
   }
  }
 },
 "nbformat": 4,
 "nbformat_minor": 4
}
